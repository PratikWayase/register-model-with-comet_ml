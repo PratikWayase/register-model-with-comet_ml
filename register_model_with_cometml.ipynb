{
  "nbformat": 4,
  "nbformat_minor": 0,
  "metadata": {
    "colab": {
      "provenance": []
    },
    "kernelspec": {
      "name": "python3",
      "display_name": "Python 3"
    },
    "language_info": {
      "name": "python"
    }
  },
  "cells": [
    {
      "cell_type": "code",
      "source": [
        "!pip install comet_ml"
      ],
      "metadata": {
        "colab": {
          "base_uri": "https://localhost:8080/"
        },
        "id": "8KN-NaJ9PtfE",
        "outputId": "ff4bdcc0-1065-4d7e-f8a0-01d5c45ea3bf"
      },
      "execution_count": 1,
      "outputs": [
        {
          "output_type": "stream",
          "name": "stdout",
          "text": [
            "Collecting comet_ml\n",
            "  Downloading comet_ml-3.39.0-py3-none-any.whl (632 kB)\n",
            "\u001b[2K     \u001b[90m━━━━━━━━━━━━━━━━━━━━━━━━━━━━━━━━━━━━━━━━\u001b[0m \u001b[32m632.4/632.4 kB\u001b[0m \u001b[31m12.4 MB/s\u001b[0m eta \u001b[36m0:00:00\u001b[0m\n",
            "\u001b[?25hCollecting everett[ini]<3.2.0,>=1.0.1 (from comet_ml)\n",
            "  Downloading everett-3.1.0-py2.py3-none-any.whl (35 kB)\n",
            "Requirement already satisfied: jsonschema!=3.1.0,>=2.6.0 in /usr/local/lib/python3.10/dist-packages (from comet_ml) (4.19.2)\n",
            "Requirement already satisfied: psutil>=5.6.3 in /usr/local/lib/python3.10/dist-packages (from comet_ml) (5.9.5)\n",
            "Collecting python-box<7.0.0 (from comet_ml)\n",
            "  Downloading python_box-6.1.0-cp310-cp310-manylinux_2_17_x86_64.manylinux2014_x86_64.whl (3.3 MB)\n",
            "\u001b[2K     \u001b[90m━━━━━━━━━━━━━━━━━━━━━━━━━━━━━━━━━━━━━━━━\u001b[0m \u001b[32m3.3/3.3 MB\u001b[0m \u001b[31m66.8 MB/s\u001b[0m eta \u001b[36m0:00:00\u001b[0m\n",
            "\u001b[?25hCollecting requests-toolbelt>=0.8.0 (from comet_ml)\n",
            "  Downloading requests_toolbelt-1.0.0-py2.py3-none-any.whl (54 kB)\n",
            "\u001b[2K     \u001b[90m━━━━━━━━━━━━━━━━━━━━━━━━━━━━━━━━━━━━━━━━\u001b[0m \u001b[32m54.5/54.5 kB\u001b[0m \u001b[31m7.3 MB/s\u001b[0m eta \u001b[36m0:00:00\u001b[0m\n",
            "\u001b[?25hRequirement already satisfied: requests>=2.18.4 in /usr/local/lib/python3.10/dist-packages (from comet_ml) (2.31.0)\n",
            "Collecting semantic-version>=2.8.0 (from comet_ml)\n",
            "  Downloading semantic_version-2.10.0-py2.py3-none-any.whl (15 kB)\n",
            "Collecting sentry-sdk>=1.1.0 (from comet_ml)\n",
            "  Downloading sentry_sdk-1.41.0-py2.py3-none-any.whl (258 kB)\n",
            "\u001b[2K     \u001b[90m━━━━━━━━━━━━━━━━━━━━━━━━━━━━━━━━━━━━━━━━\u001b[0m \u001b[32m258.8/258.8 kB\u001b[0m \u001b[31m27.9 MB/s\u001b[0m eta \u001b[36m0:00:00\u001b[0m\n",
            "\u001b[?25hCollecting simplejson (from comet_ml)\n",
            "  Downloading simplejson-3.19.2-cp310-cp310-manylinux_2_5_x86_64.manylinux1_x86_64.manylinux_2_17_x86_64.manylinux2014_x86_64.whl (137 kB)\n",
            "\u001b[2K     \u001b[90m━━━━━━━━━━━━━━━━━━━━━━━━━━━━━━━━━━━━━━━━\u001b[0m \u001b[32m137.9/137.9 kB\u001b[0m \u001b[31m16.1 MB/s\u001b[0m eta \u001b[36m0:00:00\u001b[0m\n",
            "\u001b[?25hRequirement already satisfied: six in /usr/local/lib/python3.10/dist-packages (from comet_ml) (1.16.0)\n",
            "Requirement already satisfied: urllib3>=1.21.1 in /usr/local/lib/python3.10/dist-packages (from comet_ml) (2.0.7)\n",
            "Collecting websocket-client<1.4.0,>=0.55.0 (from comet_ml)\n",
            "  Downloading websocket_client-1.3.3-py3-none-any.whl (54 kB)\n",
            "\u001b[2K     \u001b[90m━━━━━━━━━━━━━━━━━━━━━━━━━━━━━━━━━━━━━━━━\u001b[0m \u001b[32m54.3/54.3 kB\u001b[0m \u001b[31m7.1 MB/s\u001b[0m eta \u001b[36m0:00:00\u001b[0m\n",
            "\u001b[?25hRequirement already satisfied: wrapt>=1.11.2 in /usr/local/lib/python3.10/dist-packages (from comet_ml) (1.14.1)\n",
            "Collecting wurlitzer>=1.0.2 (from comet_ml)\n",
            "  Downloading wurlitzer-3.0.3-py3-none-any.whl (7.3 kB)\n",
            "Collecting dulwich!=0.20.33,>=0.20.6 (from comet_ml)\n",
            "  Downloading dulwich-0.21.7-cp310-cp310-manylinux_2_17_x86_64.manylinux2014_x86_64.whl (514 kB)\n",
            "\u001b[2K     \u001b[90m━━━━━━━━━━━━━━━━━━━━━━━━━━━━━━━━━━━━━━━━\u001b[0m \u001b[32m514.7/514.7 kB\u001b[0m \u001b[31m45.7 MB/s\u001b[0m eta \u001b[36m0:00:00\u001b[0m\n",
            "\u001b[?25hRequirement already satisfied: rich>=13.3.2 in /usr/local/lib/python3.10/dist-packages (from comet_ml) (13.7.1)\n",
            "Collecting configobj (from everett[ini]<3.2.0,>=1.0.1->comet_ml)\n",
            "  Downloading configobj-5.0.8-py2.py3-none-any.whl (36 kB)\n",
            "Requirement already satisfied: attrs>=22.2.0 in /usr/local/lib/python3.10/dist-packages (from jsonschema!=3.1.0,>=2.6.0->comet_ml) (23.2.0)\n",
            "Requirement already satisfied: jsonschema-specifications>=2023.03.6 in /usr/local/lib/python3.10/dist-packages (from jsonschema!=3.1.0,>=2.6.0->comet_ml) (2023.12.1)\n",
            "Requirement already satisfied: referencing>=0.28.4 in /usr/local/lib/python3.10/dist-packages (from jsonschema!=3.1.0,>=2.6.0->comet_ml) (0.33.0)\n",
            "Requirement already satisfied: rpds-py>=0.7.1 in /usr/local/lib/python3.10/dist-packages (from jsonschema!=3.1.0,>=2.6.0->comet_ml) (0.18.0)\n",
            "Requirement already satisfied: charset-normalizer<4,>=2 in /usr/local/lib/python3.10/dist-packages (from requests>=2.18.4->comet_ml) (3.3.2)\n",
            "Requirement already satisfied: idna<4,>=2.5 in /usr/local/lib/python3.10/dist-packages (from requests>=2.18.4->comet_ml) (3.6)\n",
            "Requirement already satisfied: certifi>=2017.4.17 in /usr/local/lib/python3.10/dist-packages (from requests>=2.18.4->comet_ml) (2024.2.2)\n",
            "Requirement already satisfied: markdown-it-py>=2.2.0 in /usr/local/lib/python3.10/dist-packages (from rich>=13.3.2->comet_ml) (3.0.0)\n",
            "Requirement already satisfied: pygments<3.0.0,>=2.13.0 in /usr/local/lib/python3.10/dist-packages (from rich>=13.3.2->comet_ml) (2.16.1)\n",
            "Requirement already satisfied: mdurl~=0.1 in /usr/local/lib/python3.10/dist-packages (from markdown-it-py>=2.2.0->rich>=13.3.2->comet_ml) (0.1.2)\n",
            "Installing collected packages: everett, wurlitzer, websocket-client, simplejson, sentry-sdk, semantic-version, python-box, dulwich, configobj, requests-toolbelt, comet_ml\n",
            "  Attempting uninstall: websocket-client\n",
            "    Found existing installation: websocket-client 1.7.0\n",
            "    Uninstalling websocket-client-1.7.0:\n",
            "      Successfully uninstalled websocket-client-1.7.0\n",
            "  Attempting uninstall: python-box\n",
            "    Found existing installation: python-box 7.1.1\n",
            "    Uninstalling python-box-7.1.1:\n",
            "      Successfully uninstalled python-box-7.1.1\n",
            "Successfully installed comet_ml-3.39.0 configobj-5.0.8 dulwich-0.21.7 everett-3.1.0 python-box-6.1.0 requests-toolbelt-1.0.0 semantic-version-2.10.0 sentry-sdk-1.41.0 simplejson-3.19.2 websocket-client-1.3.3 wurlitzer-3.0.3\n"
          ]
        }
      ]
    },
    {
      "cell_type": "code",
      "execution_count": 2,
      "metadata": {
        "id": "Aph41bvd0_Fp"
      },
      "outputs": [],
      "source": [
        "from comet_ml import Experiment"
      ]
    },
    {
      "cell_type": "code",
      "source": [
        "experiment = Experiment(\n",
        "    api_key=\"YOUR_COMET_ML_API_KEY_HERE\",\n",
        "    project_name=\"keras_heart_disease\",\n",
        "    workspace=\"galaxy-man\",\n",
        "    auto_metric_logging=True,\n",
        "    auto_param_logging=True,\n",
        "    log_graph=True,\n",
        "    auto_metric_step_rate=True,\n",
        "    parse_args=True,\n",
        "    auto_histogram_weight_logging=True,\n",
        "    auto_histogram_gradient_logging=True,\n",
        "    auto_histogram_activation_logging=True,\n",
        "    auto_histogram_epoch_rate=True,\n",
        ")"
      ],
      "metadata": {
        "id": "9KLdsEemPtiC",
        "colab": {
          "base_uri": "https://localhost:8080/"
        },
        "outputId": "791cc692-0486-4b06-c96d-9077b904027d"
      },
      "execution_count": 4,
      "outputs": [
        {
          "output_type": "stream",
          "name": "stderr",
          "text": [
            "\u001b[1;38;5;214mCOMET WARNING:\u001b[0m As you are running in a Jupyter environment, you will need to call `experiment.end()` when finished to ensure all metrics and code are logged before exiting.\n",
            "\u001b[1;38;5;39mCOMET INFO:\u001b[0m Couldn't find a Git repository in '/content' nor in any parent directory. Set `COMET_GIT_DIRECTORY` if your Git Repository is elsewhere.\n",
            "\u001b[1;38;5;39mCOMET INFO:\u001b[0m Experiment is live on comet.com https://www.comet.com/galaxy-man/keras-heart-disease/edfcc6b83d4c412aa28e977babd7e656\n",
            "\n"
          ]
        }
      ]
    },
    {
      "cell_type": "code",
      "source": [
        "import pandas as pd\n",
        "import seaborn as  sns\n",
        "import matplotlib.pyplot as plt\n",
        "\n",
        "import io\n",
        "df = pd.read_csv('/content/heart.csv')"
      ],
      "metadata": {
        "id": "_jj4hXXuPtlH"
      },
      "execution_count": 5,
      "outputs": []
    },
    {
      "cell_type": "code",
      "source": [
        "df.head(5)"
      ],
      "metadata": {
        "colab": {
          "base_uri": "https://localhost:8080/",
          "height": 206
        },
        "id": "jVZU3xz25I1b",
        "outputId": "9fefcfff-222f-4e4a-d936-6de75b85ed00"
      },
      "execution_count": 8,
      "outputs": [
        {
          "output_type": "execute_result",
          "data": {
            "text/plain": [
              "   age  sex  cp  trtbps  chol  fbs  restecg  thalachh  exng  oldpeak  slp  \\\n",
              "0   63    1   3     145   233    1        0       150     0      2.3    0   \n",
              "1   37    1   2     130   250    0        1       187     0      3.5    0   \n",
              "2   41    0   1     130   204    0        0       172     0      1.4    2   \n",
              "3   56    1   1     120   236    0        1       178     0      0.8    2   \n",
              "4   57    0   0     120   354    0        1       163     1      0.6    2   \n",
              "\n",
              "   caa  thall  output  \n",
              "0    0      1       1  \n",
              "1    0      2       1  \n",
              "2    0      2       1  \n",
              "3    0      2       1  \n",
              "4    0      2       1  "
            ],
            "text/html": [
              "\n",
              "  <div id=\"df-e0e13a98-99aa-4187-b383-babd03767173\" class=\"colab-df-container\">\n",
              "    <div>\n",
              "<style scoped>\n",
              "    .dataframe tbody tr th:only-of-type {\n",
              "        vertical-align: middle;\n",
              "    }\n",
              "\n",
              "    .dataframe tbody tr th {\n",
              "        vertical-align: top;\n",
              "    }\n",
              "\n",
              "    .dataframe thead th {\n",
              "        text-align: right;\n",
              "    }\n",
              "</style>\n",
              "<table border=\"1\" class=\"dataframe\">\n",
              "  <thead>\n",
              "    <tr style=\"text-align: right;\">\n",
              "      <th></th>\n",
              "      <th>age</th>\n",
              "      <th>sex</th>\n",
              "      <th>cp</th>\n",
              "      <th>trtbps</th>\n",
              "      <th>chol</th>\n",
              "      <th>fbs</th>\n",
              "      <th>restecg</th>\n",
              "      <th>thalachh</th>\n",
              "      <th>exng</th>\n",
              "      <th>oldpeak</th>\n",
              "      <th>slp</th>\n",
              "      <th>caa</th>\n",
              "      <th>thall</th>\n",
              "      <th>output</th>\n",
              "    </tr>\n",
              "  </thead>\n",
              "  <tbody>\n",
              "    <tr>\n",
              "      <th>0</th>\n",
              "      <td>63</td>\n",
              "      <td>1</td>\n",
              "      <td>3</td>\n",
              "      <td>145</td>\n",
              "      <td>233</td>\n",
              "      <td>1</td>\n",
              "      <td>0</td>\n",
              "      <td>150</td>\n",
              "      <td>0</td>\n",
              "      <td>2.3</td>\n",
              "      <td>0</td>\n",
              "      <td>0</td>\n",
              "      <td>1</td>\n",
              "      <td>1</td>\n",
              "    </tr>\n",
              "    <tr>\n",
              "      <th>1</th>\n",
              "      <td>37</td>\n",
              "      <td>1</td>\n",
              "      <td>2</td>\n",
              "      <td>130</td>\n",
              "      <td>250</td>\n",
              "      <td>0</td>\n",
              "      <td>1</td>\n",
              "      <td>187</td>\n",
              "      <td>0</td>\n",
              "      <td>3.5</td>\n",
              "      <td>0</td>\n",
              "      <td>0</td>\n",
              "      <td>2</td>\n",
              "      <td>1</td>\n",
              "    </tr>\n",
              "    <tr>\n",
              "      <th>2</th>\n",
              "      <td>41</td>\n",
              "      <td>0</td>\n",
              "      <td>1</td>\n",
              "      <td>130</td>\n",
              "      <td>204</td>\n",
              "      <td>0</td>\n",
              "      <td>0</td>\n",
              "      <td>172</td>\n",
              "      <td>0</td>\n",
              "      <td>1.4</td>\n",
              "      <td>2</td>\n",
              "      <td>0</td>\n",
              "      <td>2</td>\n",
              "      <td>1</td>\n",
              "    </tr>\n",
              "    <tr>\n",
              "      <th>3</th>\n",
              "      <td>56</td>\n",
              "      <td>1</td>\n",
              "      <td>1</td>\n",
              "      <td>120</td>\n",
              "      <td>236</td>\n",
              "      <td>0</td>\n",
              "      <td>1</td>\n",
              "      <td>178</td>\n",
              "      <td>0</td>\n",
              "      <td>0.8</td>\n",
              "      <td>2</td>\n",
              "      <td>0</td>\n",
              "      <td>2</td>\n",
              "      <td>1</td>\n",
              "    </tr>\n",
              "    <tr>\n",
              "      <th>4</th>\n",
              "      <td>57</td>\n",
              "      <td>0</td>\n",
              "      <td>0</td>\n",
              "      <td>120</td>\n",
              "      <td>354</td>\n",
              "      <td>0</td>\n",
              "      <td>1</td>\n",
              "      <td>163</td>\n",
              "      <td>1</td>\n",
              "      <td>0.6</td>\n",
              "      <td>2</td>\n",
              "      <td>0</td>\n",
              "      <td>2</td>\n",
              "      <td>1</td>\n",
              "    </tr>\n",
              "  </tbody>\n",
              "</table>\n",
              "</div>\n",
              "    <div class=\"colab-df-buttons\">\n",
              "\n",
              "  <div class=\"colab-df-container\">\n",
              "    <button class=\"colab-df-convert\" onclick=\"convertToInteractive('df-e0e13a98-99aa-4187-b383-babd03767173')\"\n",
              "            title=\"Convert this dataframe to an interactive table.\"\n",
              "            style=\"display:none;\">\n",
              "\n",
              "  <svg xmlns=\"http://www.w3.org/2000/svg\" height=\"24px\" viewBox=\"0 -960 960 960\">\n",
              "    <path d=\"M120-120v-720h720v720H120Zm60-500h600v-160H180v160Zm220 220h160v-160H400v160Zm0 220h160v-160H400v160ZM180-400h160v-160H180v160Zm440 0h160v-160H620v160ZM180-180h160v-160H180v160Zm440 0h160v-160H620v160Z\"/>\n",
              "  </svg>\n",
              "    </button>\n",
              "\n",
              "  <style>\n",
              "    .colab-df-container {\n",
              "      display:flex;\n",
              "      gap: 12px;\n",
              "    }\n",
              "\n",
              "    .colab-df-convert {\n",
              "      background-color: #E8F0FE;\n",
              "      border: none;\n",
              "      border-radius: 50%;\n",
              "      cursor: pointer;\n",
              "      display: none;\n",
              "      fill: #1967D2;\n",
              "      height: 32px;\n",
              "      padding: 0 0 0 0;\n",
              "      width: 32px;\n",
              "    }\n",
              "\n",
              "    .colab-df-convert:hover {\n",
              "      background-color: #E2EBFA;\n",
              "      box-shadow: 0px 1px 2px rgba(60, 64, 67, 0.3), 0px 1px 3px 1px rgba(60, 64, 67, 0.15);\n",
              "      fill: #174EA6;\n",
              "    }\n",
              "\n",
              "    .colab-df-buttons div {\n",
              "      margin-bottom: 4px;\n",
              "    }\n",
              "\n",
              "    [theme=dark] .colab-df-convert {\n",
              "      background-color: #3B4455;\n",
              "      fill: #D2E3FC;\n",
              "    }\n",
              "\n",
              "    [theme=dark] .colab-df-convert:hover {\n",
              "      background-color: #434B5C;\n",
              "      box-shadow: 0px 1px 3px 1px rgba(0, 0, 0, 0.15);\n",
              "      filter: drop-shadow(0px 1px 2px rgba(0, 0, 0, 0.3));\n",
              "      fill: #FFFFFF;\n",
              "    }\n",
              "  </style>\n",
              "\n",
              "    <script>\n",
              "      const buttonEl =\n",
              "        document.querySelector('#df-e0e13a98-99aa-4187-b383-babd03767173 button.colab-df-convert');\n",
              "      buttonEl.style.display =\n",
              "        google.colab.kernel.accessAllowed ? 'block' : 'none';\n",
              "\n",
              "      async function convertToInteractive(key) {\n",
              "        const element = document.querySelector('#df-e0e13a98-99aa-4187-b383-babd03767173');\n",
              "        const dataTable =\n",
              "          await google.colab.kernel.invokeFunction('convertToInteractive',\n",
              "                                                    [key], {});\n",
              "        if (!dataTable) return;\n",
              "\n",
              "        const docLinkHtml = 'Like what you see? Visit the ' +\n",
              "          '<a target=\"_blank\" href=https://colab.research.google.com/notebooks/data_table.ipynb>data table notebook</a>'\n",
              "          + ' to learn more about interactive tables.';\n",
              "        element.innerHTML = '';\n",
              "        dataTable['output_type'] = 'display_data';\n",
              "        await google.colab.output.renderOutput(dataTable, element);\n",
              "        const docLink = document.createElement('div');\n",
              "        docLink.innerHTML = docLinkHtml;\n",
              "        element.appendChild(docLink);\n",
              "      }\n",
              "    </script>\n",
              "  </div>\n",
              "\n",
              "\n",
              "<div id=\"df-12d7ea9a-1dce-4563-9b87-f44fcaaad7ff\">\n",
              "  <button class=\"colab-df-quickchart\" onclick=\"quickchart('df-12d7ea9a-1dce-4563-9b87-f44fcaaad7ff')\"\n",
              "            title=\"Suggest charts\"\n",
              "            style=\"display:none;\">\n",
              "\n",
              "<svg xmlns=\"http://www.w3.org/2000/svg\" height=\"24px\"viewBox=\"0 0 24 24\"\n",
              "     width=\"24px\">\n",
              "    <g>\n",
              "        <path d=\"M19 3H5c-1.1 0-2 .9-2 2v14c0 1.1.9 2 2 2h14c1.1 0 2-.9 2-2V5c0-1.1-.9-2-2-2zM9 17H7v-7h2v7zm4 0h-2V7h2v10zm4 0h-2v-4h2v4z\"/>\n",
              "    </g>\n",
              "</svg>\n",
              "  </button>\n",
              "\n",
              "<style>\n",
              "  .colab-df-quickchart {\n",
              "      --bg-color: #E8F0FE;\n",
              "      --fill-color: #1967D2;\n",
              "      --hover-bg-color: #E2EBFA;\n",
              "      --hover-fill-color: #174EA6;\n",
              "      --disabled-fill-color: #AAA;\n",
              "      --disabled-bg-color: #DDD;\n",
              "  }\n",
              "\n",
              "  [theme=dark] .colab-df-quickchart {\n",
              "      --bg-color: #3B4455;\n",
              "      --fill-color: #D2E3FC;\n",
              "      --hover-bg-color: #434B5C;\n",
              "      --hover-fill-color: #FFFFFF;\n",
              "      --disabled-bg-color: #3B4455;\n",
              "      --disabled-fill-color: #666;\n",
              "  }\n",
              "\n",
              "  .colab-df-quickchart {\n",
              "    background-color: var(--bg-color);\n",
              "    border: none;\n",
              "    border-radius: 50%;\n",
              "    cursor: pointer;\n",
              "    display: none;\n",
              "    fill: var(--fill-color);\n",
              "    height: 32px;\n",
              "    padding: 0;\n",
              "    width: 32px;\n",
              "  }\n",
              "\n",
              "  .colab-df-quickchart:hover {\n",
              "    background-color: var(--hover-bg-color);\n",
              "    box-shadow: 0 1px 2px rgba(60, 64, 67, 0.3), 0 1px 3px 1px rgba(60, 64, 67, 0.15);\n",
              "    fill: var(--button-hover-fill-color);\n",
              "  }\n",
              "\n",
              "  .colab-df-quickchart-complete:disabled,\n",
              "  .colab-df-quickchart-complete:disabled:hover {\n",
              "    background-color: var(--disabled-bg-color);\n",
              "    fill: var(--disabled-fill-color);\n",
              "    box-shadow: none;\n",
              "  }\n",
              "\n",
              "  .colab-df-spinner {\n",
              "    border: 2px solid var(--fill-color);\n",
              "    border-color: transparent;\n",
              "    border-bottom-color: var(--fill-color);\n",
              "    animation:\n",
              "      spin 1s steps(1) infinite;\n",
              "  }\n",
              "\n",
              "  @keyframes spin {\n",
              "    0% {\n",
              "      border-color: transparent;\n",
              "      border-bottom-color: var(--fill-color);\n",
              "      border-left-color: var(--fill-color);\n",
              "    }\n",
              "    20% {\n",
              "      border-color: transparent;\n",
              "      border-left-color: var(--fill-color);\n",
              "      border-top-color: var(--fill-color);\n",
              "    }\n",
              "    30% {\n",
              "      border-color: transparent;\n",
              "      border-left-color: var(--fill-color);\n",
              "      border-top-color: var(--fill-color);\n",
              "      border-right-color: var(--fill-color);\n",
              "    }\n",
              "    40% {\n",
              "      border-color: transparent;\n",
              "      border-right-color: var(--fill-color);\n",
              "      border-top-color: var(--fill-color);\n",
              "    }\n",
              "    60% {\n",
              "      border-color: transparent;\n",
              "      border-right-color: var(--fill-color);\n",
              "    }\n",
              "    80% {\n",
              "      border-color: transparent;\n",
              "      border-right-color: var(--fill-color);\n",
              "      border-bottom-color: var(--fill-color);\n",
              "    }\n",
              "    90% {\n",
              "      border-color: transparent;\n",
              "      border-bottom-color: var(--fill-color);\n",
              "    }\n",
              "  }\n",
              "</style>\n",
              "\n",
              "  <script>\n",
              "    async function quickchart(key) {\n",
              "      const quickchartButtonEl =\n",
              "        document.querySelector('#' + key + ' button');\n",
              "      quickchartButtonEl.disabled = true;  // To prevent multiple clicks.\n",
              "      quickchartButtonEl.classList.add('colab-df-spinner');\n",
              "      try {\n",
              "        const charts = await google.colab.kernel.invokeFunction(\n",
              "            'suggestCharts', [key], {});\n",
              "      } catch (error) {\n",
              "        console.error('Error during call to suggestCharts:', error);\n",
              "      }\n",
              "      quickchartButtonEl.classList.remove('colab-df-spinner');\n",
              "      quickchartButtonEl.classList.add('colab-df-quickchart-complete');\n",
              "    }\n",
              "    (() => {\n",
              "      let quickchartButtonEl =\n",
              "        document.querySelector('#df-12d7ea9a-1dce-4563-9b87-f44fcaaad7ff button');\n",
              "      quickchartButtonEl.style.display =\n",
              "        google.colab.kernel.accessAllowed ? 'block' : 'none';\n",
              "    })();\n",
              "  </script>\n",
              "</div>\n",
              "\n",
              "    </div>\n",
              "  </div>\n"
            ],
            "application/vnd.google.colaboratory.intrinsic+json": {
              "type": "dataframe",
              "variable_name": "df",
              "summary": "{\n  \"name\": \"df\",\n  \"rows\": 303,\n  \"fields\": [\n    {\n      \"column\": \"age\",\n      \"properties\": {\n        \"dtype\": \"number\",\n        \"std\": 9,\n        \"min\": 29,\n        \"max\": 77,\n        \"num_unique_values\": 41,\n        \"samples\": [\n          46,\n          66,\n          48\n        ],\n        \"semantic_type\": \"\",\n        \"description\": \"\"\n      }\n    },\n    {\n      \"column\": \"sex\",\n      \"properties\": {\n        \"dtype\": \"number\",\n        \"std\": 0,\n        \"min\": 0,\n        \"max\": 1,\n        \"num_unique_values\": 2,\n        \"samples\": [\n          0,\n          1\n        ],\n        \"semantic_type\": \"\",\n        \"description\": \"\"\n      }\n    },\n    {\n      \"column\": \"cp\",\n      \"properties\": {\n        \"dtype\": \"number\",\n        \"std\": 1,\n        \"min\": 0,\n        \"max\": 3,\n        \"num_unique_values\": 4,\n        \"samples\": [\n          2,\n          0\n        ],\n        \"semantic_type\": \"\",\n        \"description\": \"\"\n      }\n    },\n    {\n      \"column\": \"trtbps\",\n      \"properties\": {\n        \"dtype\": \"number\",\n        \"std\": 17,\n        \"min\": 94,\n        \"max\": 200,\n        \"num_unique_values\": 49,\n        \"samples\": [\n          104,\n          123\n        ],\n        \"semantic_type\": \"\",\n        \"description\": \"\"\n      }\n    },\n    {\n      \"column\": \"chol\",\n      \"properties\": {\n        \"dtype\": \"number\",\n        \"std\": 51,\n        \"min\": 126,\n        \"max\": 564,\n        \"num_unique_values\": 152,\n        \"samples\": [\n          277,\n          169\n        ],\n        \"semantic_type\": \"\",\n        \"description\": \"\"\n      }\n    },\n    {\n      \"column\": \"fbs\",\n      \"properties\": {\n        \"dtype\": \"number\",\n        \"std\": 0,\n        \"min\": 0,\n        \"max\": 1,\n        \"num_unique_values\": 2,\n        \"samples\": [\n          0,\n          1\n        ],\n        \"semantic_type\": \"\",\n        \"description\": \"\"\n      }\n    },\n    {\n      \"column\": \"restecg\",\n      \"properties\": {\n        \"dtype\": \"number\",\n        \"std\": 0,\n        \"min\": 0,\n        \"max\": 2,\n        \"num_unique_values\": 3,\n        \"samples\": [\n          0,\n          1\n        ],\n        \"semantic_type\": \"\",\n        \"description\": \"\"\n      }\n    },\n    {\n      \"column\": \"thalachh\",\n      \"properties\": {\n        \"dtype\": \"number\",\n        \"std\": 22,\n        \"min\": 71,\n        \"max\": 202,\n        \"num_unique_values\": 91,\n        \"samples\": [\n          159,\n          152\n        ],\n        \"semantic_type\": \"\",\n        \"description\": \"\"\n      }\n    },\n    {\n      \"column\": \"exng\",\n      \"properties\": {\n        \"dtype\": \"number\",\n        \"std\": 0,\n        \"min\": 0,\n        \"max\": 1,\n        \"num_unique_values\": 2,\n        \"samples\": [\n          1,\n          0\n        ],\n        \"semantic_type\": \"\",\n        \"description\": \"\"\n      }\n    },\n    {\n      \"column\": \"oldpeak\",\n      \"properties\": {\n        \"dtype\": \"number\",\n        \"std\": 1.1610750220686348,\n        \"min\": 0.0,\n        \"max\": 6.2,\n        \"num_unique_values\": 40,\n        \"samples\": [\n          1.9,\n          3.0\n        ],\n        \"semantic_type\": \"\",\n        \"description\": \"\"\n      }\n    },\n    {\n      \"column\": \"slp\",\n      \"properties\": {\n        \"dtype\": \"number\",\n        \"std\": 0,\n        \"min\": 0,\n        \"max\": 2,\n        \"num_unique_values\": 3,\n        \"samples\": [\n          0,\n          2\n        ],\n        \"semantic_type\": \"\",\n        \"description\": \"\"\n      }\n    },\n    {\n      \"column\": \"caa\",\n      \"properties\": {\n        \"dtype\": \"number\",\n        \"std\": 1,\n        \"min\": 0,\n        \"max\": 4,\n        \"num_unique_values\": 5,\n        \"samples\": [\n          2,\n          4\n        ],\n        \"semantic_type\": \"\",\n        \"description\": \"\"\n      }\n    },\n    {\n      \"column\": \"thall\",\n      \"properties\": {\n        \"dtype\": \"number\",\n        \"std\": 0,\n        \"min\": 0,\n        \"max\": 3,\n        \"num_unique_values\": 4,\n        \"samples\": [\n          2,\n          0\n        ],\n        \"semantic_type\": \"\",\n        \"description\": \"\"\n      }\n    },\n    {\n      \"column\": \"output\",\n      \"properties\": {\n        \"dtype\": \"number\",\n        \"std\": 0,\n        \"min\": 0,\n        \"max\": 1,\n        \"num_unique_values\": 2,\n        \"samples\": [\n          0,\n          1\n        ],\n        \"semantic_type\": \"\",\n        \"description\": \"\"\n      }\n    }\n  ]\n}"
            }
          },
          "metadata": {},
          "execution_count": 8
        }
      ]
    },
    {
      "cell_type": "code",
      "source": [
        "df.shape\n",
        "df.columns"
      ],
      "metadata": {
        "colab": {
          "base_uri": "https://localhost:8080/"
        },
        "id": "OQnkwGtnPtoC",
        "outputId": "5f21481d-a8f9-41e6-8ba4-11fd023b38ae"
      },
      "execution_count": 6,
      "outputs": [
        {
          "output_type": "execute_result",
          "data": {
            "text/plain": [
              "Index(['age', 'sex', 'cp', 'trtbps', 'chol', 'fbs', 'restecg', 'thalachh',\n",
              "       'exng', 'oldpeak', 'slp', 'caa', 'thall', 'output'],\n",
              "      dtype='object')"
            ]
          },
          "metadata": {},
          "execution_count": 6
        }
      ]
    },
    {
      "cell_type": "code",
      "source": [
        "x=(df.cp.value_counts())\n",
        "print(x)\n",
        "p = sns.countplot(data=df, x=\"cp\")\n",
        "plt.show()"
      ],
      "metadata": {
        "id": "NidNCA4vPtq4",
        "colab": {
          "base_uri": "https://localhost:8080/",
          "height": 536
        },
        "outputId": "ac942927-662c-47f6-b361-2fdfaba7b483"
      },
      "execution_count": 10,
      "outputs": [
        {
          "output_type": "stream",
          "name": "stdout",
          "text": [
            "0    143\n",
            "2     87\n",
            "1     50\n",
            "3     23\n",
            "Name: cp, dtype: int64\n"
          ]
        },
        {
          "output_type": "display_data",
          "data": {
            "text/plain": [
              "<Figure size 640x480 with 1 Axes>"
            ],
            "image/png": "[encoded data removed]"
          },
          "metadata": {}
        }
      ]
    },
    {
      "cell_type": "code",
      "source": [
        "df_input = pd.DataFrame(df.iloc[:, 0:13])\n",
        "df_input.shape"
      ],
      "metadata": {
        "colab": {
          "base_uri": "https://localhost:8080/"
        },
        "id": "ZV7IIeYGPtt-",
        "outputId": "fdfb5fac-eb6c-4282-abac-973cd0aee468"
      },
      "execution_count": 11,
      "outputs": [
        {
          "output_type": "execute_result",
          "data": {
            "text/plain": [
              "(303, 13)"
            ]
          },
          "metadata": {},
          "execution_count": 11
        }
      ]
    },
    {
      "cell_type": "code",
      "source": [
        "df_target = pd.DataFrame(df.iloc[:, 13],columns=['output'])\n",
        "df_target.shape"
      ],
      "metadata": {
        "colab": {
          "base_uri": "https://localhost:8080/"
        },
        "id": "jIN-RwE7Ptw5",
        "outputId": "39cd1c65-03c9-4933-8e9d-4bfd7bd204d1"
      },
      "execution_count": 12,
      "outputs": [
        {
          "output_type": "execute_result",
          "data": {
            "text/plain": [
              "(303, 1)"
            ]
          },
          "metadata": {},
          "execution_count": 12
        }
      ]
    },
    {
      "cell_type": "code",
      "source": [
        "from sklearn.preprocessing import StandardScaler\n",
        "scaler = StandardScaler()\n",
        "df_scaled_input = scaler.fit_transform(df_input)\n",
        "df_scaled_input"
      ],
      "metadata": {
        "id": "yayZ1-AClvFJ",
        "colab": {
          "base_uri": "https://localhost:8080/"
        },
        "outputId": "776fd1ab-1e5a-4715-bb15-0a7ea0135af7"
      },
      "execution_count": 13,
      "outputs": [
        {
          "output_type": "execute_result",
          "data": {
            "text/plain": [
              "array([[ 0.9521966 ,  0.68100522,  1.97312292, ..., -2.27457861,\n",
              "        -0.71442887, -2.14887271],\n",
              "       [-1.91531289,  0.68100522,  1.00257707, ..., -2.27457861,\n",
              "        -0.71442887, -0.51292188],\n",
              "       [-1.47415758, -1.46841752,  0.03203122, ...,  0.97635214,\n",
              "        -0.71442887, -0.51292188],\n",
              "       ...,\n",
              "       [ 1.50364073,  0.68100522, -0.93851463, ..., -0.64911323,\n",
              "         1.24459328,  1.12302895],\n",
              "       [ 0.29046364,  0.68100522, -0.93851463, ..., -0.64911323,\n",
              "         0.26508221,  1.12302895],\n",
              "       [ 0.29046364, -1.46841752,  0.03203122, ..., -0.64911323,\n",
              "         0.26508221, -0.51292188]])"
            ]
          },
          "metadata": {},
          "execution_count": 13
        }
      ]
    },
    {
      "cell_type": "code",
      "source": [
        "\n",
        "from sklearn.model_selection import train_test_split\n",
        "df_input_train, df_input_test, df_target_train, df_target_test = train_test_split(df_scaled_input, df_target, test_size = 0.30, random_state = 5)\n",
        "print(\"Training data Split (Train & Test)\")\n",
        "print(df_input_train.shape)\n",
        "print(df_input_test.shape)\n",
        "\n",
        "print(\"Target data Split (Train & Test)\")\n",
        "print(df_target_train.shape)\n",
        "print(df_target_test.shape)"
      ],
      "metadata": {
        "colab": {
          "base_uri": "https://localhost:8080/"
        },
        "id": "DM1V2tY5Pt0U",
        "outputId": "d1575f31-e5f2-41e0-8b72-1692f89829b6"
      },
      "execution_count": 14,
      "outputs": [
        {
          "output_type": "stream",
          "name": "stdout",
          "text": [
            "Training data Split (Train & Test)\n",
            "(212, 13)\n",
            "(91, 13)\n",
            "Target data Split (Train & Test)\n",
            "(212, 1)\n",
            "(91, 1)\n"
          ]
        }
      ]
    },
    {
      "cell_type": "code",
      "source": [
        "## Adding Validation data with Training\n",
        "X_train, X_val, y_train, y_val = train_test_split(df_input_train, df_target_train, test_size=0.2, random_state=1)\n",
        "print(\"Training data Split with  (Train & Test)\")\n",
        "print(X_train.shape)\n",
        "print(y_train.shape)\n",
        "\n",
        "print(\"Validation data Split (Train & Test)\")\n",
        "print(X_val.shape)\n",
        "print(y_val.shape)\n",
        ""
      ],
      "metadata": {
        "id": "Pa5iygFHTyc7",
        "colab": {
          "base_uri": "https://localhost:8080/"
        },
        "outputId": "41416378-be52-420b-ae91-80abb8922419"
      },
      "execution_count": 15,
      "outputs": [
        {
          "output_type": "stream",
          "name": "stdout",
          "text": [
            "Training data Split with  (Train & Test)\n",
            "(169, 13)\n",
            "(169, 1)\n",
            "Validation data Split (Train & Test)\n",
            "(43, 13)\n",
            "(43, 1)\n"
          ]
        }
      ]
    },
    {
      "cell_type": "code",
      "source": [
        "from keras.models import Sequential\n",
        "from keras.layers import Dense"
      ],
      "metadata": {
        "id": "t3IacjvVUZkh"
      },
      "execution_count": 16,
      "outputs": []
    },
    {
      "cell_type": "code",
      "source": [
        "model = Sequential()\n",
        "model.add(Dense(30, input_dim=13, activation='tanh'))\n",
        "model.add(Dense(20, activation='tanh'))\n",
        "model.add(Dense(10, activation='tanh'))\n",
        "model.add(Dense(1, activation='sigmoid'))"
      ],
      "metadata": {
        "id": "Hwig5s9RUZwn"
      },
      "execution_count": 17,
      "outputs": []
    },
    {
      "cell_type": "code",
      "source": [
        "model.compile(optimizer='adam',loss='binary_crossentropy',metrics=['accuracy'])\n",
        "history = model.fit(X_train, y_train, epochs=100, verbose=1, validation_data=(X_val, y_val))"
      ],
      "metadata": {
        "id": "5SyAPkl8UZ-F",
        "colab": {
          "base_uri": "https://localhost:8080/"
        },
        "outputId": "fc18c184-21e7-4edc-e9a1-46ed213cab95"
      },
      "execution_count": 18,
      "outputs": [
        {
          "output_type": "stream",
          "name": "stderr",
          "text": [
            "\u001b[1;38;5;39mCOMET INFO:\u001b[0m Ignoring automatic log_parameter('verbose') because 'keras:verbose' is in COMET_LOGGING_PARAMETERS_IGNORE\n"
          ]
        },
        {
          "output_type": "stream",
          "name": "stdout",
          "text": [
            "Epoch 1/100\n",
            "6/6 [==============================] - 2s 59ms/step - loss: 0.8220 - accuracy: 0.3373 - val_loss: 0.6478 - val_accuracy: 0.5581\n",
            "Epoch 2/100\n",
            "6/6 [==============================] - 0s 21ms/step - loss: 0.7112 - accuracy: 0.4911 - val_loss: 0.5879 - val_accuracy: 0.7674\n",
            "Epoch 3/100\n",
            "6/6 [==============================] - 0s 22ms/step - loss: 0.6287 - accuracy: 0.6686 - val_loss: 0.5518 - val_accuracy: 0.8140\n",
            "Epoch 4/100\n",
            "6/6 [==============================] - 0s 22ms/step - loss: 0.5701 - accuracy: 0.7041 - val_loss: 0.5286 - val_accuracy: 0.7674\n",
            "Epoch 5/100\n",
            "6/6 [==============================] - 0s 21ms/step - loss: 0.5282 - accuracy: 0.7396 - val_loss: 0.5139 - val_accuracy: 0.7907\n",
            "Epoch 6/100\n",
            "6/6 [==============================] - 0s 22ms/step - loss: 0.4920 - accuracy: 0.7515 - val_loss: 0.5045 - val_accuracy: 0.7674\n",
            "Epoch 7/100\n",
            "6/6 [==============================] - 0s 20ms/step - loss: 0.4664 - accuracy: 0.7811 - val_loss: 0.4982 - val_accuracy: 0.7907\n",
            "Epoch 8/100\n",
            "6/6 [==============================] - 0s 18ms/step - loss: 0.4440 - accuracy: 0.8047 - val_loss: 0.4950 - val_accuracy: 0.7674\n",
            "Epoch 9/100\n",
            "6/6 [==============================] - 0s 19ms/step - loss: 0.4249 - accuracy: 0.8343 - val_loss: 0.4951 - val_accuracy: 0.7907\n",
            "Epoch 10/100\n",
            "6/6 [==============================] - 0s 18ms/step - loss: 0.4074 - accuracy: 0.8462 - val_loss: 0.4946 - val_accuracy: 0.7907\n",
            "Epoch 11/100\n",
            "6/6 [==============================] - 0s 19ms/step - loss: 0.3925 - accuracy: 0.8639 - val_loss: 0.4938 - val_accuracy: 0.7674\n",
            "Epoch 12/100\n",
            "6/6 [==============================] - 0s 19ms/step - loss: 0.3818 - accuracy: 0.8639 - val_loss: 0.4948 - val_accuracy: 0.7907\n",
            "Epoch 13/100\n",
            "6/6 [==============================] - 0s 20ms/step - loss: 0.3709 - accuracy: 0.8580 - val_loss: 0.4965 - val_accuracy: 0.7907\n",
            "Epoch 14/100\n",
            "6/6 [==============================] - 0s 20ms/step - loss: 0.3629 - accuracy: 0.8462 - val_loss: 0.5000 - val_accuracy: 0.7907\n",
            "Epoch 15/100\n",
            "6/6 [==============================] - 0s 22ms/step - loss: 0.3572 - accuracy: 0.8462 - val_loss: 0.5040 - val_accuracy: 0.7674\n",
            "Epoch 16/100\n",
            "6/6 [==============================] - 0s 22ms/step - loss: 0.3498 - accuracy: 0.8402 - val_loss: 0.5115 - val_accuracy: 0.7674\n",
            "Epoch 17/100\n",
            "6/6 [==============================] - 0s 18ms/step - loss: 0.3457 - accuracy: 0.8462 - val_loss: 0.5165 - val_accuracy: 0.7209\n",
            "Epoch 18/100\n",
            "6/6 [==============================] - 0s 21ms/step - loss: 0.3404 - accuracy: 0.8462 - val_loss: 0.5223 - val_accuracy: 0.7209\n",
            "Epoch 19/100\n",
            "6/6 [==============================] - 0s 18ms/step - loss: 0.3356 - accuracy: 0.8462 - val_loss: 0.5278 - val_accuracy: 0.6977\n",
            "Epoch 20/100\n",
            "6/6 [==============================] - 0s 20ms/step - loss: 0.3315 - accuracy: 0.8462 - val_loss: 0.5390 - val_accuracy: 0.6977\n",
            "Epoch 21/100\n",
            "6/6 [==============================] - 0s 19ms/step - loss: 0.3273 - accuracy: 0.8462 - val_loss: 0.5451 - val_accuracy: 0.6977\n",
            "Epoch 22/100\n",
            "6/6 [==============================] - 0s 23ms/step - loss: 0.3239 - accuracy: 0.8521 - val_loss: 0.5520 - val_accuracy: 0.6977\n",
            "Epoch 23/100\n",
            "6/6 [==============================] - 0s 30ms/step - loss: 0.3202 - accuracy: 0.8521 - val_loss: 0.5561 - val_accuracy: 0.7209\n",
            "Epoch 24/100\n",
            "6/6 [==============================] - 0s 32ms/step - loss: 0.3166 - accuracy: 0.8462 - val_loss: 0.5621 - val_accuracy: 0.7209\n",
            "Epoch 25/100\n",
            "6/6 [==============================] - 0s 27ms/step - loss: 0.3130 - accuracy: 0.8580 - val_loss: 0.5700 - val_accuracy: 0.7209\n",
            "Epoch 26/100\n",
            "6/6 [==============================] - 0s 28ms/step - loss: 0.3104 - accuracy: 0.8580 - val_loss: 0.5763 - val_accuracy: 0.7209\n",
            "Epoch 27/100\n",
            "6/6 [==============================] - 0s 30ms/step - loss: 0.3068 - accuracy: 0.8639 - val_loss: 0.5806 - val_accuracy: 0.7209\n",
            "Epoch 28/100\n",
            "6/6 [==============================] - 0s 28ms/step - loss: 0.3035 - accuracy: 0.8639 - val_loss: 0.5886 - val_accuracy: 0.6977\n",
            "Epoch 29/100\n",
            "6/6 [==============================] - 0s 28ms/step - loss: 0.3006 - accuracy: 0.8698 - val_loss: 0.5959 - val_accuracy: 0.7209\n",
            "Epoch 30/100\n",
            "6/6 [==============================] - 0s 26ms/step - loss: 0.2984 - accuracy: 0.8698 - val_loss: 0.6000 - val_accuracy: 0.7209\n",
            "Epoch 31/100\n",
            "6/6 [==============================] - 0s 28ms/step - loss: 0.2951 - accuracy: 0.8757 - val_loss: 0.6088 - val_accuracy: 0.7209\n",
            "Epoch 32/100\n",
            "6/6 [==============================] - 0s 32ms/step - loss: 0.2912 - accuracy: 0.8757 - val_loss: 0.6116 - val_accuracy: 0.7209\n",
            "Epoch 33/100\n",
            "6/6 [==============================] - 0s 31ms/step - loss: 0.2877 - accuracy: 0.8757 - val_loss: 0.6121 - val_accuracy: 0.7209\n",
            "Epoch 34/100\n",
            "6/6 [==============================] - 0s 28ms/step - loss: 0.2852 - accuracy: 0.8698 - val_loss: 0.6144 - val_accuracy: 0.7209\n",
            "Epoch 35/100\n",
            "6/6 [==============================] - 0s 33ms/step - loss: 0.2823 - accuracy: 0.8698 - val_loss: 0.6176 - val_accuracy: 0.7209\n",
            "Epoch 36/100\n",
            "6/6 [==============================] - 0s 33ms/step - loss: 0.2798 - accuracy: 0.8698 - val_loss: 0.6198 - val_accuracy: 0.6977\n",
            "Epoch 37/100\n",
            "6/6 [==============================] - 0s 22ms/step - loss: 0.2765 - accuracy: 0.8639 - val_loss: 0.6197 - val_accuracy: 0.6977\n",
            "Epoch 38/100\n",
            "6/6 [==============================] - 0s 21ms/step - loss: 0.2741 - accuracy: 0.8698 - val_loss: 0.6274 - val_accuracy: 0.7442\n",
            "Epoch 39/100\n",
            "6/6 [==============================] - 0s 19ms/step - loss: 0.2706 - accuracy: 0.8698 - val_loss: 0.6322 - val_accuracy: 0.7442\n",
            "Epoch 40/100\n",
            "6/6 [==============================] - 0s 21ms/step - loss: 0.2681 - accuracy: 0.8698 - val_loss: 0.6355 - val_accuracy: 0.7442\n",
            "Epoch 41/100\n",
            "6/6 [==============================] - 0s 23ms/step - loss: 0.2646 - accuracy: 0.8757 - val_loss: 0.6402 - val_accuracy: 0.7442\n",
            "Epoch 42/100\n",
            "6/6 [==============================] - 0s 22ms/step - loss: 0.2617 - accuracy: 0.8757 - val_loss: 0.6450 - val_accuracy: 0.7209\n",
            "Epoch 43/100\n",
            "6/6 [==============================] - 0s 21ms/step - loss: 0.2599 - accuracy: 0.8757 - val_loss: 0.6473 - val_accuracy: 0.7209\n",
            "Epoch 44/100\n",
            "6/6 [==============================] - 0s 23ms/step - loss: 0.2556 - accuracy: 0.8757 - val_loss: 0.6505 - val_accuracy: 0.7209\n",
            "Epoch 45/100\n",
            "6/6 [==============================] - 0s 18ms/step - loss: 0.2534 - accuracy: 0.8757 - val_loss: 0.6569 - val_accuracy: 0.7209\n",
            "Epoch 46/100\n",
            "6/6 [==============================] - 0s 19ms/step - loss: 0.2509 - accuracy: 0.8757 - val_loss: 0.6608 - val_accuracy: 0.7209\n",
            "Epoch 47/100\n",
            "6/6 [==============================] - 0s 23ms/step - loss: 0.2488 - accuracy: 0.8757 - val_loss: 0.6578 - val_accuracy: 0.7209\n",
            "Epoch 48/100\n",
            "6/6 [==============================] - 0s 22ms/step - loss: 0.2451 - accuracy: 0.8817 - val_loss: 0.6639 - val_accuracy: 0.7209\n",
            "Epoch 49/100\n",
            "6/6 [==============================] - 0s 22ms/step - loss: 0.2419 - accuracy: 0.8817 - val_loss: 0.6743 - val_accuracy: 0.7209\n",
            "Epoch 50/100\n",
            "6/6 [==============================] - 0s 23ms/step - loss: 0.2392 - accuracy: 0.8876 - val_loss: 0.6790 - val_accuracy: 0.7209\n",
            "Epoch 51/100\n",
            "6/6 [==============================] - 0s 20ms/step - loss: 0.2363 - accuracy: 0.8876 - val_loss: 0.6822 - val_accuracy: 0.7209\n",
            "Epoch 52/100\n",
            "6/6 [==============================] - 0s 25ms/step - loss: 0.2339 - accuracy: 0.8817 - val_loss: 0.6902 - val_accuracy: 0.7209\n",
            "Epoch 53/100\n",
            "6/6 [==============================] - 0s 18ms/step - loss: 0.2303 - accuracy: 0.8817 - val_loss: 0.6953 - val_accuracy: 0.7209\n",
            "Epoch 54/100\n",
            "6/6 [==============================] - 0s 23ms/step - loss: 0.2275 - accuracy: 0.8935 - val_loss: 0.7028 - val_accuracy: 0.7209\n",
            "Epoch 55/100\n",
            "6/6 [==============================] - 0s 18ms/step - loss: 0.2254 - accuracy: 0.8935 - val_loss: 0.7111 - val_accuracy: 0.7209\n",
            "Epoch 56/100\n",
            "6/6 [==============================] - 0s 21ms/step - loss: 0.2217 - accuracy: 0.8994 - val_loss: 0.7202 - val_accuracy: 0.7209\n",
            "Epoch 57/100\n",
            "6/6 [==============================] - 0s 21ms/step - loss: 0.2189 - accuracy: 0.9112 - val_loss: 0.7216 - val_accuracy: 0.7209\n",
            "Epoch 58/100\n",
            "6/6 [==============================] - 0s 19ms/step - loss: 0.2169 - accuracy: 0.9112 - val_loss: 0.7211 - val_accuracy: 0.7209\n",
            "Epoch 59/100\n",
            "6/6 [==============================] - 0s 21ms/step - loss: 0.2140 - accuracy: 0.9112 - val_loss: 0.7224 - val_accuracy: 0.7209\n",
            "Epoch 60/100\n",
            "6/6 [==============================] - 0s 23ms/step - loss: 0.2116 - accuracy: 0.9112 - val_loss: 0.7232 - val_accuracy: 0.7209\n",
            "Epoch 61/100\n",
            "6/6 [==============================] - 0s 21ms/step - loss: 0.2089 - accuracy: 0.9172 - val_loss: 0.7255 - val_accuracy: 0.7209\n",
            "Epoch 62/100\n",
            "6/6 [==============================] - 0s 20ms/step - loss: 0.2055 - accuracy: 0.9231 - val_loss: 0.7418 - val_accuracy: 0.7209\n",
            "Epoch 63/100\n",
            "6/6 [==============================] - 0s 19ms/step - loss: 0.2020 - accuracy: 0.9231 - val_loss: 0.7463 - val_accuracy: 0.7209\n",
            "Epoch 64/100\n",
            "6/6 [==============================] - 0s 18ms/step - loss: 0.1996 - accuracy: 0.9231 - val_loss: 0.7561 - val_accuracy: 0.7209\n",
            "Epoch 65/100\n",
            "6/6 [==============================] - 0s 21ms/step - loss: 0.1979 - accuracy: 0.9349 - val_loss: 0.7685 - val_accuracy: 0.7209\n",
            "Epoch 66/100\n",
            "6/6 [==============================] - 0s 18ms/step - loss: 0.1960 - accuracy: 0.9231 - val_loss: 0.7786 - val_accuracy: 0.7209\n",
            "Epoch 67/100\n",
            "6/6 [==============================] - 0s 22ms/step - loss: 0.1932 - accuracy: 0.9231 - val_loss: 0.7795 - val_accuracy: 0.7209\n",
            "Epoch 68/100\n",
            "6/6 [==============================] - 0s 18ms/step - loss: 0.1906 - accuracy: 0.9349 - val_loss: 0.7824 - val_accuracy: 0.7209\n",
            "Epoch 69/100\n",
            "6/6 [==============================] - 0s 18ms/step - loss: 0.1867 - accuracy: 0.9349 - val_loss: 0.7898 - val_accuracy: 0.7209\n",
            "Epoch 70/100\n",
            "6/6 [==============================] - 0s 20ms/step - loss: 0.1843 - accuracy: 0.9349 - val_loss: 0.7957 - val_accuracy: 0.7209\n",
            "Epoch 71/100\n",
            "6/6 [==============================] - 0s 22ms/step - loss: 0.1814 - accuracy: 0.9408 - val_loss: 0.7955 - val_accuracy: 0.7209\n",
            "Epoch 72/100\n",
            "6/6 [==============================] - 0s 21ms/step - loss: 0.1784 - accuracy: 0.9408 - val_loss: 0.7974 - val_accuracy: 0.7209\n",
            "Epoch 73/100\n",
            "6/6 [==============================] - 0s 21ms/step - loss: 0.1761 - accuracy: 0.9408 - val_loss: 0.7991 - val_accuracy: 0.7209\n",
            "Epoch 74/100\n",
            "6/6 [==============================] - 0s 22ms/step - loss: 0.1736 - accuracy: 0.9467 - val_loss: 0.8115 - val_accuracy: 0.7209\n",
            "Epoch 75/100\n",
            "6/6 [==============================] - 0s 18ms/step - loss: 0.1714 - accuracy: 0.9467 - val_loss: 0.8201 - val_accuracy: 0.7209\n",
            "Epoch 76/100\n",
            "6/6 [==============================] - 0s 23ms/step - loss: 0.1693 - accuracy: 0.9467 - val_loss: 0.8261 - val_accuracy: 0.7209\n",
            "Epoch 77/100\n",
            "6/6 [==============================] - 0s 23ms/step - loss: 0.1669 - accuracy: 0.9467 - val_loss: 0.8263 - val_accuracy: 0.7209\n",
            "Epoch 78/100\n",
            "6/6 [==============================] - 0s 19ms/step - loss: 0.1646 - accuracy: 0.9467 - val_loss: 0.8280 - val_accuracy: 0.7209\n",
            "Epoch 79/100\n",
            "6/6 [==============================] - 0s 24ms/step - loss: 0.1635 - accuracy: 0.9467 - val_loss: 0.8311 - val_accuracy: 0.7209\n",
            "Epoch 80/100\n",
            "6/6 [==============================] - 0s 22ms/step - loss: 0.1608 - accuracy: 0.9467 - val_loss: 0.8405 - val_accuracy: 0.7209\n",
            "Epoch 81/100\n",
            "6/6 [==============================] - 0s 18ms/step - loss: 0.1586 - accuracy: 0.9467 - val_loss: 0.8461 - val_accuracy: 0.7209\n",
            "Epoch 82/100\n",
            "6/6 [==============================] - 0s 21ms/step - loss: 0.1562 - accuracy: 0.9467 - val_loss: 0.8489 - val_accuracy: 0.7442\n",
            "Epoch 83/100\n",
            "6/6 [==============================] - 0s 20ms/step - loss: 0.1531 - accuracy: 0.9467 - val_loss: 0.8576 - val_accuracy: 0.7442\n",
            "Epoch 84/100\n",
            "6/6 [==============================] - 0s 22ms/step - loss: 0.1517 - accuracy: 0.9467 - val_loss: 0.8618 - val_accuracy: 0.7442\n",
            "Epoch 85/100\n",
            "6/6 [==============================] - 0s 22ms/step - loss: 0.1503 - accuracy: 0.9467 - val_loss: 0.8635 - val_accuracy: 0.7442\n",
            "Epoch 86/100\n",
            "6/6 [==============================] - 0s 21ms/step - loss: 0.1483 - accuracy: 0.9467 - val_loss: 0.8683 - val_accuracy: 0.7442\n",
            "Epoch 87/100\n",
            "6/6 [==============================] - 0s 19ms/step - loss: 0.1474 - accuracy: 0.9467 - val_loss: 0.8795 - val_accuracy: 0.7442\n",
            "Epoch 88/100\n",
            "6/6 [==============================] - 0s 22ms/step - loss: 0.1450 - accuracy: 0.9467 - val_loss: 0.8834 - val_accuracy: 0.7442\n",
            "Epoch 89/100\n",
            "6/6 [==============================] - 0s 19ms/step - loss: 0.1431 - accuracy: 0.9467 - val_loss: 0.9015 - val_accuracy: 0.7442\n",
            "Epoch 90/100\n",
            "6/6 [==============================] - 0s 21ms/step - loss: 0.1413 - accuracy: 0.9467 - val_loss: 0.9131 - val_accuracy: 0.7209\n",
            "Epoch 91/100\n",
            "6/6 [==============================] - 0s 21ms/step - loss: 0.1382 - accuracy: 0.9527 - val_loss: 0.9145 - val_accuracy: 0.7442\n",
            "Epoch 92/100\n",
            "6/6 [==============================] - 0s 19ms/step - loss: 0.1366 - accuracy: 0.9527 - val_loss: 0.9147 - val_accuracy: 0.7442\n",
            "Epoch 93/100\n",
            "6/6 [==============================] - 0s 18ms/step - loss: 0.1346 - accuracy: 0.9527 - val_loss: 0.9183 - val_accuracy: 0.7442\n",
            "Epoch 94/100\n",
            "6/6 [==============================] - 0s 21ms/step - loss: 0.1339 - accuracy: 0.9527 - val_loss: 0.9187 - val_accuracy: 0.7442\n",
            "Epoch 95/100\n",
            "6/6 [==============================] - 0s 22ms/step - loss: 0.1313 - accuracy: 0.9645 - val_loss: 0.9260 - val_accuracy: 0.7442\n",
            "Epoch 96/100\n",
            "6/6 [==============================] - 0s 19ms/step - loss: 0.1302 - accuracy: 0.9586 - val_loss: 0.9362 - val_accuracy: 0.7209\n",
            "Epoch 97/100\n",
            "6/6 [==============================] - 0s 24ms/step - loss: 0.1279 - accuracy: 0.9586 - val_loss: 0.9386 - val_accuracy: 0.7442\n",
            "Epoch 98/100\n",
            "6/6 [==============================] - 0s 23ms/step - loss: 0.1257 - accuracy: 0.9645 - val_loss: 0.9431 - val_accuracy: 0.7442\n",
            "Epoch 99/100\n",
            "6/6 [==============================] - 0s 21ms/step - loss: 0.1244 - accuracy: 0.9645 - val_loss: 0.9430 - val_accuracy: 0.7442\n",
            "Epoch 100/100\n",
            "6/6 [==============================] - 0s 18ms/step - loss: 0.1230 - accuracy: 0.9645 - val_loss: 0.9457 - val_accuracy: 0.7442\n"
          ]
        }
      ]
    },
    {
      "cell_type": "code",
      "source": [
        "model.summary()\n",
        "score = model.evaluate(X_train, y_train, verbose=0)\n",
        "print('Model Accuracy = ',score[1])"
      ],
      "metadata": {
        "colab": {
          "base_uri": "https://localhost:8080/"
        },
        "id": "ukEQhZLt67EO",
        "outputId": "bd765b44-aa75-40b0-df73-f04254490fd9"
      },
      "execution_count": 19,
      "outputs": [
        {
          "output_type": "stream",
          "name": "stdout",
          "text": [
            "Model: \"sequential\"\n",
            "_________________________________________________________________\n",
            " Layer (type)                Output Shape              Param #   \n",
            "=================================================================\n",
            " dense (Dense)               (None, 30)                420       \n",
            "                                                                 \n",
            " dense_1 (Dense)             (None, 20)                620       \n",
            "                                                                 \n",
            " dense_2 (Dense)             (None, 10)                210       \n",
            "                                                                 \n",
            " dense_3 (Dense)             (None, 1)                 11        \n",
            "                                                                 \n",
            "=================================================================\n",
            "Total params: 1261 (4.93 KB)\n",
            "Trainable params: 1261 (4.93 KB)\n",
            "Non-trainable params: 0 (0.00 Byte)\n",
            "_________________________________________________________________\n",
            "Model Accuracy =  0.9704142212867737\n"
          ]
        }
      ]
    },
    {
      "cell_type": "code",
      "source": [
        "Target_Classification = model.predict(df_input_test)\n",
        "Target_Classification = (Target_Classification > 0.5)\n",
        "\n",
        "from sklearn.metrics import confusion_matrix\n",
        "print(confusion_matrix(df_target_test, Target_Classification))"
      ],
      "metadata": {
        "colab": {
          "base_uri": "https://localhost:8080/"
        },
        "id": "6aG0LBkg67p1",
        "outputId": "4c729d79-182d-4a7a-e37d-60517ba4b8a9"
      },
      "execution_count": 20,
      "outputs": [
        {
          "output_type": "stream",
          "name": "stdout",
          "text": [
            "3/3 [==============================] - 0s 10ms/step\n",
            "[[38  5]\n",
            " [ 9 39]]\n"
          ]
        }
      ]
    },
    {
      "cell_type": "code",
      "source": [
        "import numpy as np\n",
        "best_model_accuracy = history.history['accuracy'][np.argmin(history.history['loss'])]\n",
        "print(best_model_accuracy)"
      ],
      "metadata": {
        "colab": {
          "base_uri": "https://localhost:8080/"
        },
        "id": "koblK8f667sY",
        "outputId": "f0da0e6d-4d14-490c-e95c-7d28cba08c92"
      },
      "execution_count": 21,
      "outputs": [
        {
          "output_type": "stream",
          "name": "stdout",
          "text": [
            "0.9644970297813416\n"
          ]
        }
      ]
    },
    {
      "cell_type": "code",
      "source": [
        "model.save('model/keras-heart-disease.bin')"
      ],
      "metadata": {
        "id": "FUAzxj3y67vc"
      },
      "execution_count": 22,
      "outputs": []
    },
    {
      "cell_type": "code",
      "source": [
        "!ls\n",
        "!ls model/"
      ],
      "metadata": {
        "colab": {
          "base_uri": "https://localhost:8080/"
        },
        "id": "RGYnSIt567ym",
        "outputId": "9ee4e20c-e020-4383-96f1-00732a4af2ea"
      },
      "execution_count": 23,
      "outputs": [
        {
          "output_type": "stream",
          "name": "stdout",
          "text": [
            "heart.csv  model  sample_data\n",
            "keras-heart-disease.bin\n"
          ]
        }
      ]
    },
    {
      "cell_type": "code",
      "source": [
        "from tensorflow import keras\n",
        "model_x = keras.models.load_model('model/keras-heart-disease.bin')"
      ],
      "metadata": {
        "id": "A02OxczI7fJn"
      },
      "execution_count": 24,
      "outputs": []
    },
    {
      "cell_type": "code",
      "source": [
        "print(model_x.metrics[0])\n",
        "print(model_x.metrics[1])\n",
        "\n",
        "\n",
        "model_x.summary()\n",
        "score_x = model_x.evaluate(X_train, y_train, verbose=0)\n",
        "print('Model Accuracy = ',score_x[1])"
      ],
      "metadata": {
        "colab": {
          "base_uri": "https://localhost:8080/"
        },
        "id": "c4GQuYJM7fMZ",
        "outputId": "d5a64298-a2f0-46a3-be95-71995a23e1f9"
      },
      "execution_count": 25,
      "outputs": [
        {
          "output_type": "stream",
          "name": "stdout",
          "text": [
            "Mean(name=loss,dtype=float32)\n",
            "MeanMetricWrapper(name=accuracy,dtype=float32,fn=<function binary_accuracy at 0x7bdbfdaddfc0>)\n",
            "Model: \"sequential\"\n",
            "_________________________________________________________________\n",
            " Layer (type)                Output Shape              Param #   \n",
            "=================================================================\n",
            " dense (Dense)               (None, 30)                420       \n",
            "                                                                 \n",
            " dense_1 (Dense)             (None, 20)                620       \n",
            "                                                                 \n",
            " dense_2 (Dense)             (None, 10)                210       \n",
            "                                                                 \n",
            " dense_3 (Dense)             (None, 1)                 11        \n",
            "                                                                 \n",
            "=================================================================\n",
            "Total params: 1261 (4.93 KB)\n",
            "Trainable params: 1261 (4.93 KB)\n",
            "Non-trainable params: 0 (0.00 Byte)\n",
            "_________________________________________________________________\n",
            "Model Accuracy =  0.9704142212867737\n"
          ]
        }
      ]
    },
    {
      "cell_type": "code",
      "source": [
        "!pwd\n",
        "!ls /content/model\n",
        "experiment.display()"
      ],
      "metadata": {
        "colab": {
          "base_uri": "https://localhost:8080/",
          "height": 856
        },
        "id": "ar5lcZsZ7fPM",
        "outputId": "c1056441-cd32-4d10-987e-d72e34d0b8ea"
      },
      "execution_count": 26,
      "outputs": [
        {
          "output_type": "stream",
          "name": "stdout",
          "text": [
            "/content\n",
            "keras-heart-disease.bin\n"
          ]
        },
        {
          "output_type": "display_data",
          "data": {
            "text/plain": [
              "<IPython.lib.display.IFrame at 0x7bdc509d2140>"
            ],
            "text/html": [
              "\n",
              "        <iframe\n",
              "            width=\"100%\"\n",
              "            height=\"800px\"\n",
              "            src=\"https://www.comet.com/galaxy-man/keras-heart-disease/edfcc6b83d4c412aa28e977babd7e656\"\n",
              "            frameborder=\"0\"\n",
              "            allowfullscreen\n",
              "            \n",
              "        ></iframe>\n",
              "        "
            ]
          },
          "metadata": {}
        }
      ]
    },
    {
      "cell_type": "code",
      "source": [
        "experiment.log_model(\"Keras Heart Disease Model\", \"/content/model/keras-heart-disease.bin\")\n",
        "experiment.log_dataset_hash(X_train)"
      ],
      "metadata": {
        "id": "qgxHMbsY7fS0"
      },
      "execution_count": 27,
      "outputs": []
    },
    {
      "cell_type": "code",
      "source": [
        "experiment.end()"
      ],
      "metadata": {
        "colab": {
          "base_uri": "https://localhost:8080/"
        },
        "id": "INOKH6Nf7281",
        "outputId": "8614b059-88b2-445d-e811-0c24139a3ea2"
      },
      "execution_count": 28,
      "outputs": [
        {
          "output_type": "stream",
          "name": "stderr",
          "text": [
            "\u001b[1;38;5;39mCOMET INFO:\u001b[0m ---------------------------------------------------------------------------------------\n",
            "\u001b[1;38;5;39mCOMET INFO:\u001b[0m Comet.ml Experiment Summary\n",
            "\u001b[1;38;5;39mCOMET INFO:\u001b[0m ---------------------------------------------------------------------------------------\n",
            "\u001b[1;38;5;39mCOMET INFO:\u001b[0m   Data:\n",
            "\u001b[1;38;5;39mCOMET INFO:\u001b[0m     display_summary_level : 1\n",
            "\u001b[1;38;5;39mCOMET INFO:\u001b[0m     url                   : https://www.comet.com/galaxy-man/keras-heart-disease/edfcc6b83d4c412aa28e977babd7e656\n",
            "\u001b[1;38;5;39mCOMET INFO:\u001b[0m   Metrics [count] (min, max):\n",
            "\u001b[1;38;5;39mCOMET INFO:\u001b[0m     accuracy [100]                : (0.3372780978679657, 0.9644970297813416)\n",
            "\u001b[1;38;5;39mCOMET INFO:\u001b[0m     batch_accuracy [600]          : (0.28125, 1.0)\n",
            "\u001b[1;38;5;39mCOMET INFO:\u001b[0m     batch_loss [600]              : (0.038792457431554794, 0.8742773532867432)\n",
            "\u001b[1;38;5;39mCOMET INFO:\u001b[0m     epoch_duration [100]          : (0.04583291099993403, 1.8173152619999655)\n",
            "\u001b[1;38;5;39mCOMET INFO:\u001b[0m     loss [100]                    : (0.1229517012834549, 0.8220388889312744)\n",
            "\u001b[1;38;5;39mCOMET INFO:\u001b[0m     val_accuracy [100]            : (0.5581395626068115, 0.8139534592628479)\n",
            "\u001b[1;38;5;39mCOMET INFO:\u001b[0m     val_loss [100]                : (0.493821382522583, 0.945667028427124)\n",
            "\u001b[1;38;5;39mCOMET INFO:\u001b[0m     validate_batch_accuracy [200] : (0.5, 0.8139534592628479)\n",
            "\u001b[1;38;5;39mCOMET INFO:\u001b[0m     validate_batch_loss [200]     : (0.493821382522583, 0.945667028427124)\n",
            "\u001b[1;38;5;39mCOMET INFO:\u001b[0m   Others:\n",
            "\u001b[1;38;5;39mCOMET INFO:\u001b[0m     trainable_params : 1261\n",
            "\u001b[1;38;5;39mCOMET INFO:\u001b[0m   Parameters:\n",
            "\u001b[1;38;5;39mCOMET INFO:\u001b[0m     Adam_amsgrad                 : False\n",
            "\u001b[1;38;5;39mCOMET INFO:\u001b[0m     Adam_beta_1                  : 0.9\n",
            "\u001b[1;38;5;39mCOMET INFO:\u001b[0m     Adam_beta_2                  : 0.999\n",
            "\u001b[1;38;5;39mCOMET INFO:\u001b[0m     Adam_clipnorm                : None\n",
            "\u001b[1;38;5;39mCOMET INFO:\u001b[0m     Adam_clipvalue               : None\n",
            "\u001b[1;38;5;39mCOMET INFO:\u001b[0m     Adam_ema_momentum            : 0.99\n",
            "\u001b[1;38;5;39mCOMET INFO:\u001b[0m     Adam_ema_overwrite_frequency : None\n",
            "\u001b[1;38;5;39mCOMET INFO:\u001b[0m     Adam_epsilon                 : 1e-07\n",
            "\u001b[1;38;5;39mCOMET INFO:\u001b[0m     Adam_global_clipnorm         : None\n",
            "\u001b[1;38;5;39mCOMET INFO:\u001b[0m     Adam_is_legacy_optimizer     : False\n",
            "\u001b[1;38;5;39mCOMET INFO:\u001b[0m     Adam_jit_compile             : False\n",
            "\u001b[1;38;5;39mCOMET INFO:\u001b[0m     Adam_learning_rate           : 0.0010000000474974513\n",
            "\u001b[1;38;5;39mCOMET INFO:\u001b[0m     Adam_name                    : Adam\n",
            "\u001b[1;38;5;39mCOMET INFO:\u001b[0m     Adam_use_ema                 : False\n",
            "\u001b[1;38;5;39mCOMET INFO:\u001b[0m     Adam_weight_decay            : None\n",
            "\u001b[1;38;5;39mCOMET INFO:\u001b[0m     Optimizer                    : Adam\n",
            "\u001b[1;38;5;39mCOMET INFO:\u001b[0m     copy                         : True\n",
            "\u001b[1;38;5;39mCOMET INFO:\u001b[0m     epochs                       : 100\n",
            "\u001b[1;38;5;39mCOMET INFO:\u001b[0m     steps                        : 6\n",
            "\u001b[1;38;5;39mCOMET INFO:\u001b[0m     with_mean                    : True\n",
            "\u001b[1;38;5;39mCOMET INFO:\u001b[0m     with_std                     : True\n",
            "\u001b[1;38;5;39mCOMET INFO:\u001b[0m   Uploads:\n",
            "\u001b[1;38;5;39mCOMET INFO:\u001b[0m     environment details : 1\n",
            "\u001b[1;38;5;39mCOMET INFO:\u001b[0m     filename            : 1\n",
            "\u001b[1;38;5;39mCOMET INFO:\u001b[0m     histogram3d         : 909\n",
            "\u001b[1;38;5;39mCOMET INFO:\u001b[0m     installed packages  : 1\n",
            "\u001b[1;38;5;39mCOMET INFO:\u001b[0m     model graph         : 1\n",
            "\u001b[1;38;5;39mCOMET INFO:\u001b[0m     model-element       : 5 (143.25 KB)\n",
            "\u001b[1;38;5;39mCOMET INFO:\u001b[0m     notebook            : 2\n",
            "\u001b[1;38;5;39mCOMET INFO:\u001b[0m     os packages         : 1\n",
            "\u001b[1;38;5;39mCOMET INFO:\u001b[0m     source_code         : 1\n",
            "\u001b[1;38;5;39mCOMET INFO:\u001b[0m \n"
          ]
        }
      ]
    }
  ]
}